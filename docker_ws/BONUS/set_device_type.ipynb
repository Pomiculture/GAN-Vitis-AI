{
  "nbformat": 4,
  "nbformat_minor": 0,
  "metadata": {
    "colab": {
      "name": "set_device_type.ipynb",
      "provenance": [],
      "collapsed_sections": []
    },
    "kernelspec": {
      "name": "python3",
      "display_name": "Python 3"
    },
    "language_info": {
      "name": "python"
    },
    "accelerator": "GPU"
  },
  "cells": [
    {
      "cell_type": "code",
      "metadata": {
        "colab": {
          "base_uri": "https://localhost:8080/"
        },
        "id": "lZe_ooB7XGfP",
        "outputId": "83c95a7f-dd67-4016-842b-af7d52b7f383"
      },
      "source": [
        "from google.colab import drive\n",
        "drive.mount('/content/drive')"
      ],
      "execution_count": 1,
      "outputs": [
        {
          "output_type": "stream",
          "text": [
            "Drive already mounted at /content/drive; to attempt to forcibly remount, call drive.mount(\"/content/drive\", force_remount=True).\n"
          ],
          "name": "stdout"
        }
      ]
    },
    {
      "cell_type": "code",
      "metadata": {
        "id": "3d0CXHU0OsXS"
      },
      "source": [
        "import sys\n",
        "sys.path.insert(1, './drive/MyDrive/SEMI–CVE1 AI for FPGA and GPU accelerators : a Generative adversarial network/Device Colab')\n",
        "\n",
        "path = './drive/MyDrive/SEMI–CVE1 AI for FPGA and GPU accelerators : a Generative adversarial network/Device Colab/' "
      ],
      "execution_count": 2,
      "outputs": []
    },
    {
      "cell_type": "code",
      "metadata": {
        "colab": {
          "base_uri": "https://localhost:8080/"
        },
        "id": "-SZerac2yhzv",
        "outputId": "dd8c4c22-7107-4b7c-ab42-24d0659df8ca"
      },
      "source": [
        "import run_with_device\n",
        "\n",
        "# Run main for CPU and GPU\n",
        "cpu_time = run_with_device.run('cpu', path + 'keras_generator_model.h5', 'out_cpu', 8, 'png', 42)    \n",
        "print('#############################################################')\n",
        "gpu_time = run_with_device.run('gpu', path + 'keras_generator_model.h5', 'out_gpu', 8, 'png', 42)    \n",
        "print('#############################################################')\n",
        "\n",
        "# Compare GPU to CPU performances\n",
        "print('Comparison')\n",
        "run_with_device.calculate_speedup(t_cpu=cpu_time, t_gpu=gpu_time)"
      ],
      "execution_count": 3,
      "outputs": [
        {
          "output_type": "stream",
          "text": [
            "\n",
            "------------------------------------\n",
            "Device type: CPU\n",
            "Device name: /device:CPU:0\n",
            "Memory limit: 268435456 bytes\n",
            "CPU model: [ model name\t: Intel(R) Xeon(R) CPU @ 2.20GHz ]\n",
            "------------------------------------\n",
            "\n",
            "Running application...\n",
            "------------------------------------\n",
            "WARNING:tensorflow:No training configuration found in the save file, so the model was *not* compiled. Compile it manually.\n",
            "Model: \"sequential\"\n",
            "_________________________________________________________________\n",
            "Layer (type)                 Output Shape              Param #   \n",
            "=================================================================\n",
            "dense (Dense)                (None, 100)               7600      \n",
            "_________________________________________________________________\n",
            "dense_1 (Dense)              (None, 150)               15150     \n",
            "_________________________________________________________________\n",
            "dense_2 (Dense)              (None, 784)               118384    \n",
            "_________________________________________________________________\n",
            "reshape (Reshape)            (None, 28, 28)            0         \n",
            "=================================================================\n",
            "Total params: 141,134\n",
            "Trainable params: 141,134\n",
            "Non-trainable params: 0\n",
            "_________________________________________________________________\n",
            "None\n",
            "Folder out_cpu already exists. Resetting content...\n",
            "Image res_1 successfully saved in folder out_cpu\n",
            "------------------------------------\n",
            "\n",
            "Image res_2 successfully saved in folder out_cpu\n",
            "------------------------------------\n",
            "\n",
            "Image res_3 successfully saved in folder out_cpu\n",
            "------------------------------------\n",
            "\n",
            "Image res_4 successfully saved in folder out_cpu\n",
            "------------------------------------\n",
            "\n",
            "Image res_5 successfully saved in folder out_cpu\n",
            "------------------------------------\n",
            "\n",
            "Image res_6 successfully saved in folder out_cpu\n",
            "------------------------------------\n",
            "\n",
            "Image res_7 successfully saved in folder out_cpu\n",
            "------------------------------------\n",
            "\n",
            "Image res_8 successfully saved in folder out_cpu\n",
            "------------------------------------\n",
            "\n",
            "------------------------------------\n",
            "Execution time : 0.08545963599999595 s\n",
            "------------------------------------\n",
            "\n",
            "#############################################################\n",
            "\n",
            "------------------------------------\n",
            "Device type: GPU\n",
            "Device name: /device:GPU:0\n",
            "Memory limit: 14674281152 bytes\n",
            "GPU model: ['name: Tesla T4']\n",
            "------------------------------------\n",
            "\n",
            "Running application...\n",
            "------------------------------------\n",
            "WARNING:tensorflow:No training configuration found in the save file, so the model was *not* compiled. Compile it manually.\n",
            "Model: \"sequential\"\n",
            "_________________________________________________________________\n",
            "Layer (type)                 Output Shape              Param #   \n",
            "=================================================================\n",
            "dense (Dense)                (None, 100)               7600      \n",
            "_________________________________________________________________\n",
            "dense_1 (Dense)              (None, 150)               15150     \n",
            "_________________________________________________________________\n",
            "dense_2 (Dense)              (None, 784)               118384    \n",
            "_________________________________________________________________\n",
            "reshape (Reshape)            (None, 28, 28)            0         \n",
            "=================================================================\n",
            "Total params: 141,134\n",
            "Trainable params: 141,134\n",
            "Non-trainable params: 0\n",
            "_________________________________________________________________\n",
            "None\n",
            "Folder out_gpu already exists. Resetting content...\n",
            "Image res_1 successfully saved in folder out_gpu\n",
            "------------------------------------\n",
            "\n",
            "Image res_2 successfully saved in folder out_gpu\n",
            "------------------------------------\n",
            "\n",
            "Image res_3 successfully saved in folder out_gpu\n",
            "------------------------------------\n",
            "\n",
            "Image res_4 successfully saved in folder out_gpu\n",
            "------------------------------------\n",
            "\n",
            "Image res_5 successfully saved in folder out_gpu\n",
            "------------------------------------\n",
            "\n",
            "Image res_6 successfully saved in folder out_gpu\n",
            "------------------------------------\n",
            "\n",
            "Image res_7 successfully saved in folder out_gpu\n",
            "------------------------------------\n",
            "\n",
            "Image res_8 successfully saved in folder out_gpu\n",
            "------------------------------------\n",
            "\n",
            "------------------------------------\n",
            "Execution time : 0.6680410829999346 s\n",
            "------------------------------------\n",
            "\n",
            "#############################################################\n",
            "Comparison\n",
            "GPU speedup factor over GPU: 0.12793\n"
          ],
          "name": "stdout"
        },
        {
          "output_type": "execute_result",
          "data": {
            "text/plain": [
              "0.12793"
            ]
          },
          "metadata": {
            "tags": []
          },
          "execution_count": 3
        }
      ]
    },
    {
      "cell_type": "code",
      "metadata": {
        "colab": {
          "base_uri": "https://localhost:8080/",
          "height": 1000
        },
        "id": "UJHejslTkGx8",
        "outputId": "4d36d9c0-3db6-4c86-9855-5fee5ed5078c"
      },
      "source": [
        "# Compare output images\n",
        "import compare_output\n",
        "compare_output.evaluate_accuracy('out_cpu', 'out_cpu')"
      ],
      "execution_count": 4,
      "outputs": [
        {
          "output_type": "display_data",
          "data": {
            "image/png": "[encoded data removed]",
            "text/plain": [
              "<Figure size 432x288 with 1 Axes>"
            ]
          },
          "metadata": {
            "tags": [],
            "needs_background": "light"
          }
        },
        {
          "output_type": "stream",
          "text": [
            "SSIM: 1.0\n"
          ],
          "name": "stdout"
        },
        {
          "output_type": "display_data",
          "data": {
            "image/png": "[encoded data removed]",
            "text/plain": [
              "<Figure size 432x288 with 1 Axes>"
            ]
          },
          "metadata": {
            "tags": [],
            "needs_background": "light"
          }
        },
        {
          "output_type": "stream",
          "text": [
            "SSIM: 1.0\n"
          ],
          "name": "stdout"
        },
        {
          "output_type": "display_data",
          "data": {
            "image/png": "[encoded data removed]",
            "text/plain": [
              "<Figure size 432x288 with 1 Axes>"
            ]
          },
          "metadata": {
            "tags": [],
            "needs_background": "light"
          }
        },
        {
          "output_type": "stream",
          "text": [
            "SSIM: 1.0\n"
          ],
          "name": "stdout"
        },
        {
          "output_type": "display_data",
          "data": {
            "image/png": "[encoded data removed]",
            "text/plain": [
              "<Figure size 432x288 with 1 Axes>"
            ]
          },
          "metadata": {
            "tags": [],
            "needs_background": "light"
          }
        },
        {
          "output_type": "stream",
          "text": [
            "SSIM: 1.0\n"
          ],
          "name": "stdout"
        },
        {
          "output_type": "display_data",
          "data": {
            "image/png": "[encoded data removed]",
            "text/plain": [
              "<Figure size 432x288 with 1 Axes>"
            ]
          },
          "metadata": {
            "tags": [],
            "needs_background": "light"
          }
        },
        {
          "output_type": "stream",
          "text": [
            "SSIM: 1.0\n"
          ],
          "name": "stdout"
        },
        {
          "output_type": "display_data",
          "data": {
            "image/png": "[encoded data removed]",
            "text/plain": [
              "<Figure size 432x288 with 1 Axes>"
            ]
          },
          "metadata": {
            "tags": [],
            "needs_background": "light"
          }
        },
        {
          "output_type": "stream",
          "text": [
            "SSIM: 1.0\n"
          ],
          "name": "stdout"
        },
        {
          "output_type": "display_data",
          "data": {
            "image/png": "[encoded data removed]",
            "text/plain": [
              "<Figure size 432x288 with 1 Axes>"
            ]
          },
          "metadata": {
            "tags": [],
            "needs_background": "light"
          }
        },
        {
          "output_type": "stream",
          "text": [
            "SSIM: 1.0\n"
          ],
          "name": "stdout"
        },
        {
          "output_type": "display_data",
          "data": {
            "image/png": "[encoded data removed]",
            "text/plain": [
              "<Figure size 432x288 with 1 Axes>"
            ]
          },
          "metadata": {
            "tags": [],
            "needs_background": "light"
          }
        },
        {
          "output_type": "stream",
          "text": [
            "SSIM: 1.0\n",
            "Average SSIM score between output and gold over the 8 images: 1.0\n",
            "=> High score\n",
            "Percentage :  100.0 %\n"
          ],
          "name": "stdout"
        },
        {
          "output_type": "execute_result",
          "data": {
            "text/plain": [
              "True"
            ]
          },
          "metadata": {
            "tags": []
          },
          "execution_count": 4
        }
      ]
    },
    {
      "cell_type": "code",
      "metadata": {
        "id": "IIQPhde1nIbA"
      },
      "source": [
        "import matplotlib.pyplot as plt\n",
        "def plot_image(image):\n",
        "    plt.imshow(image, cmap=\"binary\")\n",
        "    plt.axis(\"off\")"
      ],
      "execution_count": 5,
      "outputs": []
    },
    {
      "cell_type": "code",
      "metadata": {
        "colab": {
          "base_uri": "https://localhost:8080/"
        },
        "id": "4mAy0q7Ds6vv",
        "outputId": "4625562d-c41b-4f22-d18c-dabc592ab633"
      },
      "source": [
        "import classification_performance\n",
        "classification_performance.run_discriminator('out_cpu', path + 'keras_discriminator_model.h5')"
      ],
      "execution_count": 6,
      "outputs": [
        {
          "output_type": "stream",
          "text": [
            "WARNING:tensorflow:Error in loading the saved optimizer state. As a result, your model is starting with a freshly initialized optimizer.\n",
            "Model: \"sequential_1\"\n",
            "_________________________________________________________________\n",
            "Layer (type)                 Output Shape              Param #   \n",
            "=================================================================\n",
            "flatten (Flatten)            (None, 784)               0         \n",
            "_________________________________________________________________\n",
            "dense_3 (Dense)              (None, 150)               117750    \n",
            "_________________________________________________________________\n",
            "dense_4 (Dense)              (None, 100)               15100     \n",
            "_________________________________________________________________\n",
            "dense_5 (Dense)              (None, 1)                 101       \n",
            "=================================================================\n",
            "Total params: 132,951\n",
            "Trainable params: 0\n",
            "Non-trainable params: 132,951\n",
            "_________________________________________________________________\n",
            "None\n",
            "Results over 8 images.\n",
            "Mean: 0.875 - Min: 0.0 - Max: 1.0 .\n",
            "Percentage of images above 50%: 87.5%\n"
          ],
          "name": "stdout"
        },
        {
          "output_type": "execute_result",
          "data": {
            "text/plain": [
              "[1.0, 1.0, 1.0, 1.0, 1.0, 0.0, 1.0, 1.0]"
            ]
          },
          "metadata": {
            "tags": []
          },
          "execution_count": 6
        }
      ]
    }
  ]
}